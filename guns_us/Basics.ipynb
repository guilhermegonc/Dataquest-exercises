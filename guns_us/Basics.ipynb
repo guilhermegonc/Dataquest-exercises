{
 "cells": [
  {
   "cell_type": "markdown",
   "metadata": {},
   "source": [
    "# Let's explore gun deaths statistics in US\n",
    "\n",
    "The first step is to load and set the basic files."
   ]
  },
  {
   "cell_type": "code",
   "execution_count": 1,
   "metadata": {
    "collapsed": false
   },
   "outputs": [],
   "source": [
    "import csv\n",
    "\n",
    "guns_file = open('guns.csv')\n",
    "data = list(csv.reader(guns_file))"
   ]
  },
  {
   "cell_type": "code",
   "execution_count": 3,
   "metadata": {
    "scrolled": false
   },
   "outputs": [
    {
     "data": {
      "text/plain": [
       "['1',\n '2012',\n '01',\n 'Suicide',\n '0',\n 'M',\n '34',\n 'Asian/Pacific Islander',\n '100',\n 'Home',\n '4']"
      ]
     },
     "execution_count": 3,
     "metadata": {},
     "output_type": "execute_result"
    }
   ],
   "source": [
    "headers = data[0]\n",
    "data = data[1:]\n",
    "\n",
    "headers"
   ]
  },
  {
   "cell_type": "code",
   "execution_count": 3,
   "metadata": {
    "scrolled": true
   },
   "outputs": [
    {
     "data": {
      "text/plain": [
       "[['1',\n  '2012',\n  '01',\n  'Suicide',\n  '0',\n  'M',\n  '34',\n  'Asian/Pacific Islander',\n  '100',\n  'Home',\n  '4'],\n ['2', '2012', '01', 'Suicide', '0', 'F', '21', 'White', '100', 'Street', '3'],\n ['3',\n  '2012',\n  '01',\n  'Suicide',\n  '0',\n  'M',\n  '60',\n  'White',\n  '100',\n  'Other specified',\n  '4'],\n ['4', '2012', '02', 'Suicide', '0', 'M', '64', 'White', '100', 'Home', '4'],\n ['5',\n  '2012',\n  '02',\n  'Suicide',\n  '0',\n  'M',\n  '31',\n  'White',\n  '100',\n  'Other specified',\n  '2']]"
      ]
     },
     "execution_count": 3,
     "metadata": {},
     "output_type": "execute_result"
    }
   ],
   "source": [
    "data[:5]"
   ]
  },
  {
   "cell_type": "markdown",
   "metadata": {},
   "source": [
    "#### Dates treatment"
   ]
  },
  {
   "cell_type": "code",
   "execution_count": 4,
   "metadata": {},
   "outputs": [
    {
     "data": {
      "text/plain": [
       "[datetime.datetime(2012, 1, 1, 0, 0),\n datetime.datetime(2012, 1, 1, 0, 0),\n datetime.datetime(2012, 1, 1, 0, 0),\n datetime.datetime(2012, 2, 1, 0, 0),\n datetime.datetime(2012, 2, 1, 0, 0)]"
      ]
     },
     "execution_count": 4,
     "metadata": {},
     "output_type": "execute_result"
    }
   ],
   "source": [
    "import datetime\n",
    "\n",
    "dates = [datetime.datetime(int(row[1]), int(row[2]), 1) for row in data]\n",
    "\n",
    "dates[:5]"
   ]
  },
  {
   "cell_type": "markdown",
   "metadata": {},
   "source": [
    "### Number of deaths between 2012 and 2014"
   ]
  },
  {
   "cell_type": "code",
   "execution_count": 5,
   "metadata": {},
   "outputs": [
    {
     "data": {
      "text/plain": [
       "{'2012': 33562, '2013': 33635, '2014': 33598}"
      ]
     },
     "execution_count": 5,
     "metadata": {},
     "output_type": "execute_result"
    }
   ],
   "source": [
    "years = [year[1] for year in data]\n",
    "year_counts = {}\n",
    "\n",
    "for row in data:\n",
    "    if row[1] in year_counts:\n",
    "        year_counts[row[1]] += 1\n",
    "    else:\n",
    "        year_counts[row[1]] = 0\n",
    "\n",
    "year_counts"
   ]
  },
  {
   "cell_type": "code",
   "execution_count": 6,
   "metadata": {},
   "outputs": [],
   "source": [
    "date_counts = {}\n",
    "\n",
    "for row in dates:\n",
    "    if row in date_counts:\n",
    "        date_counts[row] += 1\n",
    "    else:\n",
    "        date_counts[row] = 0"
   ]
  },
  {
   "cell_type": "markdown",
   "metadata": {},
   "source": [
    "#### There is no significant variation along the years and months"
   ]
  },
  {
   "cell_type": "markdown",
   "metadata": {},
   "source": [
    "### Number of deaths by gender"
   ]
  },
  {
   "cell_type": "code",
   "execution_count": 7,
   "metadata": {},
   "outputs": [
    {
     "data": {
      "text/plain": [
       "{'F': 14448, 'M': 86348}"
      ]
     },
     "execution_count": 7,
     "metadata": {},
     "output_type": "execute_result"
    }
   ],
   "source": [
    "sex_counts = {}\n",
    "\n",
    "for row in data:\n",
    "    if row[5] in sex_counts:\n",
    "        sex_counts[row[5]] += 1\n",
    "    else:\n",
    "        sex_counts[row[5]] = 0\n",
    "\n",
    "sex_counts"
   ]
  },
  {
   "cell_type": "markdown",
   "metadata": {},
   "source": [
    "#### The incident's number of deaths is significantly bigger in men"
   ]
  },
  {
   "cell_type": "markdown",
   "metadata": {},
   "source": [
    "### Number of deaths by gender"
   ]
  },
  {
   "cell_type": "code",
   "execution_count": 8,
   "metadata": {},
   "outputs": [
    {
     "data": {
      "text/plain": [
       "{'Asian/Pacific Islander': 1325,\n 'Black': 23295,\n 'Hispanic': 9021,\n 'Native American/Native Alaskan': 916,\n 'White': 66236}"
      ]
     },
     "execution_count": 8,
     "metadata": {},
     "output_type": "execute_result"
    }
   ],
   "source": [
    "race_counts = {}\n",
    "\n",
    "for row in data:\n",
    "    if row[7] in race_counts:\n",
    "        race_counts[row[7]] += 1\n",
    "    else:\n",
    "        race_counts[row[7]] = 0\n",
    "        \n",
    "race_counts"
   ]
  },
  {
   "cell_type": "markdown",
   "metadata": {},
   "source": [
    "#### Adjust the races by populations sizes"
   ]
  },
  {
   "cell_type": "code",
   "execution_count": 9,
   "metadata": {},
   "outputs": [
    {
     "data": {
      "text/plain": [
       "[['Id',\n  'Year',\n  'Id',\n  'Sex',\n  'Id',\n  'Hispanic Origin',\n  'Id',\n  'Id2',\n  'Geography',\n  'Total',\n  'Race Alone - White',\n  'Race Alone - Hispanic',\n  'Race Alone - Black or African American',\n  'Race Alone - American Indian and Alaska Native',\n  'Race Alone - Asian',\n  'Race Alone - Native Hawaiian and Other Pacific Islander',\n  'Two or More Races'],\n ['cen42010',\n  'April 1, 2010 Census',\n  'totsex',\n  'Both Sexes',\n  'tothisp',\n  'Total',\n  '0100000US',\n  '',\n  'United States',\n  '308745538',\n  '197318956',\n  '44618105',\n  '40250635',\n  '3739506',\n  '15159516',\n  '674625',\n  '6984195']]"
      ]
     },
     "execution_count": 9,
     "metadata": {},
     "output_type": "execute_result"
    }
   ],
   "source": [
    "census_file = open('census.csv')\n",
    "census = list(csv.reader(census_file))\n",
    "\n",
    "census"
   ]
  },
  {
   "cell_type": "code",
   "execution_count": 10,
   "metadata": {},
   "outputs": [
    {
     "data": {
      "text/plain": [
       "{'Asian/Pacific Islander': 8.36799419684339,\n 'Black': 57.87486334066531,\n 'Hispanic': 20.2182499682584,\n 'Native American/Native Alaskan': 24.49521407373059,\n 'White': 33.567986240511026}"
      ]
     },
     "execution_count": 10,
     "metadata": {},
     "output_type": "execute_result"
    }
   ],
   "source": [
    "mapping = {\n",
    "    'Asian/Pacific Islander': int(census[1][14]) + int(census[1][15]),\n",
    "    'Black': int(census[1][12]),\n",
    "    'Hispanic': int(census[1][11]),\n",
    "    'Native American/Native Alaskan': int(census[1][13]),\n",
    "    'White': int(census[1][10])\n",
    "}\n",
    "\n",
    "race_per_hundredk = {}\n",
    "\n",
    "for race, count in race_counts.items():\n",
    "    race_per_hundredk[race] = int(count) / mapping[race] *  100000\n",
    "    \n",
    "race_per_hundredk"
   ]
  },
  {
   "cell_type": "markdown",
   "metadata": {},
   "source": [
    "#### After adjustment, it is possible to identify that gun deaths are significantly bigger in black race"
   ]
  },
  {
   "cell_type": "code",
   "execution_count": 11,
   "metadata": {},
   "outputs": [],
   "source": [
    "intents = [row[3] for row in data]\n",
    "races = [row[7] for row in data]\n",
    "\n",
    "homicide_race_counts = {}\n",
    "\n",
    "for i, race in enumerate(races):\n",
    "    if intents[i] == 'Homicide':\n",
    "        if race in homicide_race_counts:\n",
    "            homicide_race_counts[race] += 1\n",
    "        else:\n",
    "            homicide_race_counts[race] = 0"
   ]
  },
  {
   "cell_type": "code",
   "execution_count": 12,
   "metadata": {},
   "outputs": [
    {
     "data": {
      "text/plain": [
       "{'Asian/Pacific Islander': 3.5240307636517825,\n 'Black': 48.468800554326656,\n 'Hispanic': 12.624919861567406,\n 'Native American/Native Alaskan': 8.690987526159873,\n 'White': 4.635135004464548}"
      ]
     },
     "execution_count": 12,
     "metadata": {},
     "output_type": "execute_result"
    }
   ],
   "source": [
    "for race, count in homicide_race_counts.items():\n",
    "    homicide_race_counts[race] = homicide_race_counts[race] / mapping[race] * 100000\n",
    "\n",
    "homicide_race_counts"
   ]
  },
  {
   "cell_type": "markdown",
   "metadata": {},
   "source": [
    "#### Homicides are significantly bigger in black race."
   ]
  },
  {
   "cell_type": "markdown",
   "metadata": {},
   "source": [
    "## Relation between months and number of deaths"
   ]
  },
  {
   "cell_type": "code",
   "execution_count": 13,
   "metadata": {},
   "outputs": [
    {
     "data": {
      "text/plain": [
       "{'01': 2828,\n '02': 2177,\n '03': 2779,\n '04': 2844,\n '05': 2975,\n '06': 3129,\n '07': 3268,\n '08': 3124,\n '09': 2965,\n '10': 2967,\n '11': 2918,\n '12': 3190}"
      ]
     },
     "execution_count": 13,
     "metadata": {},
     "output_type": "execute_result"
    }
   ],
   "source": [
    "month_lst = [row[2] for row in data]\n",
    "\n",
    "months_count = {}\n",
    "\n",
    "for i, month in enumerate(month_lst):\n",
    "    if intents[i] == 'Homicide':\n",
    "        if month in months_count:\n",
    "            months_count[month] += 1\n",
    "        else:\n",
    "            months_count[month] = 0\n",
    "            \n",
    "months_count"
   ]
  },
  {
   "cell_type": "markdown",
   "metadata": {},
   "source": [
    "#### There is no significant variation between months"
   ]
  },
  {
   "cell_type": "markdown",
   "metadata": {},
   "source": [
    "## Homicides by gender"
   ]
  },
  {
   "cell_type": "code",
   "execution_count": 14,
   "metadata": {},
   "outputs": [
    {
     "data": {
      "text/plain": [
       "{'F': 5372, 'M': 29802}"
      ]
     },
     "execution_count": 14,
     "metadata": {},
     "output_type": "execute_result"
    }
   ],
   "source": [
    "genders = [row[5] for row in data]\n",
    "\n",
    "gender_count = {}\n",
    "\n",
    "for i, gender in enumerate(genders):\n",
    "    if intents[i] == 'Homicide':\n",
    "        if gender in gender_count:\n",
    "            gender_count[gender] += 1\n",
    "        else:\n",
    "            gender_count[gender] = 0\n",
    "\n",
    "gender_count"
   ]
  },
  {
   "cell_type": "markdown",
   "metadata": {},
   "source": [
    "#### Man are significantly more affected than woman",
    "\n",
    "\n",
    "\n",
    "\n",
    "\n"
   ]
  }
 ],
 "metadata": {
  "kernelspec": {
   "display_name": "Python 3",
   "language": "python",
   "name": "python3"
  },
  "language_info": {
   "codemirror_mode": {
    "name": "ipython",
    "version": 3
   },
   "file_extension": ".py",
   "mimetype": "text/x-python",
   "name": "python",
   "nbconvert_exporter": "python",
   "pygments_lexer": "ipython3",
   "version": "3.6.3"
  }
 },
 "nbformat": 4,
 "nbformat_minor": 1
}
